{
 "cells": [
  {
   "cell_type": "code",
   "execution_count": 2,
   "id": "d08e4492-c6c7-4416-9540-248707f2e25e",
   "metadata": {
    "tags": []
   },
   "outputs": [],
   "source": [
    "import numpy as np\n",
    "import pandas as pd\n",
    "\n",
    "import os\n",
    "import matplotlib.pyplot as plt\n",
    "#import pandas_datareader as web\n",
    "import datetime as dt\n",
    "\n",
    "from sklearn.preprocessing import MinMaxScaler\n",
    "from tensorflow.keras.models import Sequential\n",
    "from tensorflow.keras.layers import Dense, Dropout, LSTM\n",
    "from tensorflow.keras.callbacks import ModelCheckpoint, EarlyStopping"
   ]
  },
  {
   "cell_type": "code",
   "execution_count": 23,
   "id": "cb253a49-e909-4548-82fb-14c168a44acd",
   "metadata": {
    "tags": []
   },
   "outputs": [
    {
     "data": {
      "text/html": [
       "<div>\n",
       "<style scoped>\n",
       "    .dataframe tbody tr th:only-of-type {\n",
       "        vertical-align: middle;\n",
       "    }\n",
       "\n",
       "    .dataframe tbody tr th {\n",
       "        vertical-align: top;\n",
       "    }\n",
       "\n",
       "    .dataframe thead th {\n",
       "        text-align: right;\n",
       "    }\n",
       "</style>\n",
       "<table border=\"1\" class=\"dataframe\">\n",
       "  <thead>\n",
       "    <tr style=\"text-align: right;\">\n",
       "      <th></th>\n",
       "      <th>Date</th>\n",
       "      <th>Open</th>\n",
       "      <th>High</th>\n",
       "      <th>Low</th>\n",
       "      <th>Close</th>\n",
       "      <th>Adj Close</th>\n",
       "      <th>Volume</th>\n",
       "      <th>Stock</th>\n",
       "    </tr>\n",
       "  </thead>\n",
       "  <tbody>\n",
       "    <tr>\n",
       "      <th>1275</th>\n",
       "      <td>2022-11-10</td>\n",
       "      <td>24.000000</td>\n",
       "      <td>24.900000</td>\n",
       "      <td>23.959999</td>\n",
       "      <td>24.740000</td>\n",
       "      <td>24.483315</td>\n",
       "      <td>878623.0</td>\n",
       "      <td>AC.PA</td>\n",
       "    </tr>\n",
       "    <tr>\n",
       "      <th>1276</th>\n",
       "      <td>2022-11-11</td>\n",
       "      <td>24.940001</td>\n",
       "      <td>25.559999</td>\n",
       "      <td>24.920000</td>\n",
       "      <td>25.350000</td>\n",
       "      <td>25.086987</td>\n",
       "      <td>823089.0</td>\n",
       "      <td>AC.PA</td>\n",
       "    </tr>\n",
       "    <tr>\n",
       "      <th>1277</th>\n",
       "      <td>2022-11-14</td>\n",
       "      <td>25.280001</td>\n",
       "      <td>25.540001</td>\n",
       "      <td>25.180000</td>\n",
       "      <td>25.260000</td>\n",
       "      <td>24.997919</td>\n",
       "      <td>616951.0</td>\n",
       "      <td>AC.PA</td>\n",
       "    </tr>\n",
       "    <tr>\n",
       "      <th>1278</th>\n",
       "      <td>2022-11-15</td>\n",
       "      <td>25.350000</td>\n",
       "      <td>25.440001</td>\n",
       "      <td>25.000000</td>\n",
       "      <td>25.430000</td>\n",
       "      <td>25.166157</td>\n",
       "      <td>736904.0</td>\n",
       "      <td>AC.PA</td>\n",
       "    </tr>\n",
       "    <tr>\n",
       "      <th>1279</th>\n",
       "      <td>2022-11-16</td>\n",
       "      <td>25.450001</td>\n",
       "      <td>25.469999</td>\n",
       "      <td>24.389999</td>\n",
       "      <td>24.629999</td>\n",
       "      <td>24.374454</td>\n",
       "      <td>1123447.0</td>\n",
       "      <td>AC.PA</td>\n",
       "    </tr>\n",
       "  </tbody>\n",
       "</table>\n",
       "</div>"
      ],
      "text/plain": [
       "            Date       Open       High        Low      Close  Adj Close  \\\n",
       "1275  2022-11-10  24.000000  24.900000  23.959999  24.740000  24.483315   \n",
       "1276  2022-11-11  24.940001  25.559999  24.920000  25.350000  25.086987   \n",
       "1277  2022-11-14  25.280001  25.540001  25.180000  25.260000  24.997919   \n",
       "1278  2022-11-15  25.350000  25.440001  25.000000  25.430000  25.166157   \n",
       "1279  2022-11-16  25.450001  25.469999  24.389999  24.629999  24.374454   \n",
       "\n",
       "         Volume  Stock  \n",
       "1275   878623.0  AC.PA  \n",
       "1276   823089.0  AC.PA  \n",
       "1277   616951.0  AC.PA  \n",
       "1278   736904.0  AC.PA  \n",
       "1279  1123447.0  AC.PA  "
      ]
     },
     "execution_count": 23,
     "metadata": {},
     "output_type": "execute_result"
    }
   ],
   "source": [
    "df = pd.read_csv(\"cac40_stock_data.csv\")\n",
    "df = df.loc[df[\"Stock\"] == \"AC.PA\"]\n",
    "test_data = df.iloc[-256:]\n",
    "df = df.iloc[:-256]\n",
    "df.tail()"
   ]
  },
  {
   "cell_type": "code",
   "execution_count": 24,
   "id": "ee0a983d-7312-4365-a831-117c739a8544",
   "metadata": {
    "tags": []
   },
   "outputs": [],
   "source": [
    "scaler = MinMaxScaler(feature_range=(0,1))\n",
    "scaled_data = scaler.fit_transform(df['Close'].values.reshape(-1,1))"
   ]
  },
  {
   "cell_type": "code",
   "execution_count": 25,
   "id": "7beb0f23-1dea-41a0-ab3e-2cf2155af444",
   "metadata": {
    "tags": []
   },
   "outputs": [
    {
     "data": {
      "text/plain": [
       "1280"
      ]
     },
     "execution_count": 25,
     "metadata": {},
     "output_type": "execute_result"
    }
   ],
   "source": [
    "len(scaled_data)"
   ]
  },
  {
   "cell_type": "code",
   "execution_count": 26,
   "id": "4aa9e88c-5207-488f-a7fe-b6964bec25d8",
   "metadata": {
    "tags": []
   },
   "outputs": [],
   "source": [
    "# Set the number of days used for prediction\n",
    "prediction_days = 60\n",
    "\n",
    "# Initialize empty lists for training data input and output\n",
    "x_train = []\n",
    "y_train = []\n",
    "\n",
    "# Iterate through the scaled data, starting from the prediction_days index\n",
    "for x in range(prediction_days, len(scaled_data)): #60,771\n",
    "    # Append the previous 'prediction_days' values to x_train\n",
    "    x_train.append(scaled_data[x - prediction_days:x, 0])\n",
    "    # Append the current value to y_train\n",
    "    y_train.append(scaled_data[x, 0])\n",
    "\n",
    "# Convert the x_train and y_train lists to numpy arrays\n",
    "x_train, y_train = np.array(x_train), np.array(y_train)\n",
    "\n",
    "# Reshape x_train to a 3D array with the appropriate dimensions for the LSTM model\n",
    "x_train = np.reshape(x_train, (x_train.shape[0], x_train.shape[1], 1))"
   ]
  },
  {
   "cell_type": "code",
   "execution_count": 17,
   "id": "188ec9f8-9af7-491e-93f5-010f7612dd74",
   "metadata": {
    "tags": []
   },
   "outputs": [],
   "source": [
    "def LSTM_model():\n",
    "    # Initialize a sequential model\n",
    "    model = Sequential()\n",
    "\n",
    "    # Add the first LSTM layer with 50 units, input shape, and return sequences\n",
    "    model.add(LSTM(units=50, return_sequences=True, input_shape=(x_train.shape[1], 1)))\n",
    "    # Add dropout to prevent overfitting\n",
    "    model.add(Dropout(0.2))\n",
    "\n",
    "    # Add a second LSTM layer with 50 units and return sequences\n",
    "    model.add(LSTM(units=50, return_sequences=True))\n",
    "    # Add dropout to prevent overfitting\n",
    "    model.add(Dropout(0.2))\n",
    "\n",
    "    # Add a third LSTM layer with 50 units\n",
    "    model.add(LSTM(units=50))\n",
    "    # Add dropout to prevent overfitting\n",
    "    model.add(Dropout(0.2))\n",
    "\n",
    "    # Add a dense output layer with one unit\n",
    "    model.add(Dense(units=1))\n",
    "\n",
    "    return model"
   ]
  },
  {
   "cell_type": "code",
   "execution_count": 18,
   "id": "efa0d443-ed0a-482c-8175-d0e050d000db",
   "metadata": {
    "tags": []
   },
   "outputs": [
    {
     "name": "stdout",
     "output_type": "stream",
     "text": [
      "Model: \"sequential\"\n",
      "_________________________________________________________________\n",
      "Layer (type)                 Output Shape              Param #   \n",
      "=================================================================\n",
      "lstm (LSTM)                  (None, 60, 50)            10400     \n",
      "_________________________________________________________________\n",
      "dropout (Dropout)            (None, 60, 50)            0         \n",
      "_________________________________________________________________\n",
      "lstm_1 (LSTM)                (None, 60, 50)            20200     \n",
      "_________________________________________________________________\n",
      "dropout_1 (Dropout)          (None, 60, 50)            0         \n",
      "_________________________________________________________________\n",
      "lstm_2 (LSTM)                (None, 50)                20200     \n",
      "_________________________________________________________________\n",
      "dropout_2 (Dropout)          (None, 50)                0         \n",
      "_________________________________________________________________\n",
      "dense (Dense)                (None, 1)                 51        \n",
      "=================================================================\n",
      "Total params: 50,851\n",
      "Trainable params: 50,851\n",
      "Non-trainable params: 0\n",
      "_________________________________________________________________\n"
     ]
    }
   ],
   "source": [
    "model = LSTM_model()\n",
    "model.summary()\n",
    "model.compile(\n",
    "    optimizer='adam', \n",
    "    loss='mean_squared_error'\n",
    ")"
   ]
  },
  {
   "cell_type": "code",
   "execution_count": 27,
   "id": "82768916-19e5-49c4-9b97-353b50973098",
   "metadata": {
    "tags": []
   },
   "outputs": [
    {
     "name": "stdout",
     "output_type": "stream",
     "text": [
      "Epoch 1/25\n",
      "39/39 [==============================] - 1s 19ms/step - loss: 0.0036\n",
      "WARNING:tensorflow:Can save best model only with val_loss available, skipping.\n",
      "Epoch 2/25\n",
      "39/39 [==============================] - 1s 14ms/step - loss: 0.0041\n",
      "WARNING:tensorflow:Can save best model only with val_loss available, skipping.\n",
      "Epoch 3/25\n",
      "39/39 [==============================] - 1s 15ms/step - loss: 0.0043\n",
      "WARNING:tensorflow:Can save best model only with val_loss available, skipping.\n",
      "Epoch 4/25\n",
      "39/39 [==============================] - 1s 17ms/step - loss: 0.0038\n",
      "WARNING:tensorflow:Can save best model only with val_loss available, skipping.\n",
      "Epoch 5/25\n",
      "39/39 [==============================] - 1s 16ms/step - loss: 0.0036\n",
      "WARNING:tensorflow:Can save best model only with val_loss available, skipping.\n",
      "Epoch 6/25\n",
      "39/39 [==============================] - 1s 17ms/step - loss: 0.0036\n",
      "WARNING:tensorflow:Can save best model only with val_loss available, skipping.\n",
      "Epoch 7/25\n",
      "39/39 [==============================] - 1s 16ms/step - loss: 0.0038\n",
      "WARNING:tensorflow:Can save best model only with val_loss available, skipping.\n",
      "Epoch 8/25\n",
      "39/39 [==============================] - 1s 16ms/step - loss: 0.0037\n",
      "WARNING:tensorflow:Can save best model only with val_loss available, skipping.\n",
      "Epoch 9/25\n",
      "39/39 [==============================] - 1s 15ms/step - loss: 0.0035\n",
      "WARNING:tensorflow:Can save best model only with val_loss available, skipping.\n",
      "Epoch 10/25\n",
      "39/39 [==============================] - 1s 17ms/step - loss: 0.0036\n",
      "WARNING:tensorflow:Can save best model only with val_loss available, skipping.\n",
      "Epoch 11/25\n",
      "39/39 [==============================] - 1s 16ms/step - loss: 0.0034\n",
      "WARNING:tensorflow:Can save best model only with val_loss available, skipping.\n",
      "Epoch 12/25\n",
      "39/39 [==============================] - 1s 17ms/step - loss: 0.0033\n",
      "WARNING:tensorflow:Can save best model only with val_loss available, skipping.\n",
      "Epoch 13/25\n",
      "39/39 [==============================] - 1s 17ms/step - loss: 0.0032\n",
      "WARNING:tensorflow:Can save best model only with val_loss available, skipping.\n",
      "Epoch 14/25\n",
      "39/39 [==============================] - 1s 17ms/step - loss: 0.0033\n",
      "WARNING:tensorflow:Can save best model only with val_loss available, skipping.\n",
      "Epoch 15/25\n",
      "39/39 [==============================] - 1s 17ms/step - loss: 0.0032\n",
      "WARNING:tensorflow:Can save best model only with val_loss available, skipping.\n",
      "Epoch 16/25\n",
      "39/39 [==============================] - 1s 17ms/step - loss: 0.0032\n",
      "WARNING:tensorflow:Can save best model only with val_loss available, skipping.\n",
      "Epoch 17/25\n",
      "39/39 [==============================] - 1s 15ms/step - loss: 0.0031\n",
      "WARNING:tensorflow:Can save best model only with val_loss available, skipping.\n",
      "Epoch 18/25\n",
      "39/39 [==============================] - 1s 16ms/step - loss: 0.0033\n",
      "WARNING:tensorflow:Can save best model only with val_loss available, skipping.\n",
      "Epoch 19/25\n",
      "39/39 [==============================] - 1s 17ms/step - loss: 0.0030\n",
      "WARNING:tensorflow:Can save best model only with val_loss available, skipping.\n",
      "Epoch 20/25\n",
      "39/39 [==============================] - 1s 16ms/step - loss: 0.0032\n",
      "WARNING:tensorflow:Can save best model only with val_loss available, skipping.\n",
      "Epoch 21/25\n",
      "39/39 [==============================] - 1s 17ms/step - loss: 0.0033\n",
      "WARNING:tensorflow:Can save best model only with val_loss available, skipping.\n",
      "Epoch 22/25\n",
      "39/39 [==============================] - 1s 17ms/step - loss: 0.0030\n",
      "WARNING:tensorflow:Can save best model only with val_loss available, skipping.\n",
      "Epoch 23/25\n",
      "39/39 [==============================] - 1s 16ms/step - loss: 0.0031\n",
      "WARNING:tensorflow:Can save best model only with val_loss available, skipping.\n",
      "Epoch 24/25\n",
      "39/39 [==============================] - 1s 16ms/step - loss: 0.0032\n",
      "WARNING:tensorflow:Can save best model only with val_loss available, skipping.\n",
      "Epoch 25/25\n",
      "39/39 [==============================] - 1s 16ms/step - loss: 0.0031\n",
      "WARNING:tensorflow:Can save best model only with val_loss available, skipping.\n"
     ]
    },
    {
     "data": {
      "text/plain": [
       "<keras.callbacks.History at 0x1e0ea647790>"
      ]
     },
     "execution_count": 27,
     "metadata": {},
     "output_type": "execute_result"
    }
   ],
   "source": [
    "# Save weights only for best model\n",
    "checkpointer = ModelCheckpoint(\n",
    "    filepath = 'weights_best.hdf5', \n",
    "    verbose = 2, \n",
    "    save_best_only = True\n",
    ")\n",
    "\n",
    "model.fit(\n",
    "    x_train, \n",
    "    y_train, \n",
    "    epochs=25, \n",
    "    batch_size = 32,\n",
    "    callbacks = [checkpointer]\n",
    ")"
   ]
  },
  {
   "cell_type": "code",
   "execution_count": 35,
   "id": "fe604a60-21c2-4e75-bec0-7e800125da55",
   "metadata": {
    "tags": []
   },
   "outputs": [],
   "source": [
    "\n",
    "\n",
    "# Extract the actual closing prices from the test data\n",
    "actual_prices = test_data['Close'].values\n",
    "\n",
    "# Concatenate the training and test data along the 'Close' column\n",
    "total_dataset = pd.concat((df['Close'], test_data['Close']), axis=0)\n",
    "\n",
    "# Extract the relevant portion of the dataset for model inputs\n",
    "model_inputs = total_dataset[len(total_dataset) - len(test_data) - prediction_days:].values\n",
    "\n",
    "# Reshape the model inputs to a 2D array with a single column\n",
    "model_inputs = model_inputs.reshape(-1, 1)\n",
    "\n",
    "# Apply the same scaling used for training data to the model inputs\n",
    "model_inputs = scaler.transform(model_inputs)"
   ]
  },
  {
   "cell_type": "code",
   "execution_count": 36,
   "id": "0759e6bc-5112-410a-8228-7c5c5173a648",
   "metadata": {
    "tags": []
   },
   "outputs": [],
   "source": [
    "x_test = []\n",
    "\n",
    "# Iterate through the model inputs, starting from the prediction_days index\n",
    "for x in range(prediction_days, len(model_inputs)):\n",
    "    # Append the previous 'prediction_days' values to x_test\n",
    "    x_test.append(model_inputs[x-prediction_days:x, 0])\n",
    "\n",
    "# Convert the x_test list to a numpy array\n",
    "x_test = np.array(x_test)\n",
    "\n",
    "# Reshape x_test to a 3D array with the appropriate dimensions for the LSTM model\n",
    "x_test = np.reshape(x_test, (x_test.shape[0], x_test.shape[1], 1))\n",
    "\n",
    "# Generate price predictions using the LSTM model\n",
    "predicted_prices = model.predict(x_test)\n",
    "\n",
    "# Invert the scaling applied to the predicted prices to obtain actual values\n",
    "predicted_prices = scaler.inverse_transform(predicted_prices)"
   ]
  },
  {
   "cell_type": "code",
   "execution_count": 37,
   "id": "31c232a8-1248-4fe9-bf9a-77e708c57da5",
   "metadata": {
    "tags": []
   },
   "outputs": [
    {
     "data": {
      "image/png": "[encoded data removed]",
      "text/plain": [
       "<Figure size 640x480 with 1 Axes>"
      ]
     },
     "metadata": {},
     "output_type": "display_data"
    }
   ],
   "source": [
    "# Plot the actual prices using a black line\n",
    "plt.plot(actual_prices, color='black', label=\"Actual price\")\n",
    "\n",
    "# Plot the predicted prices using a green line\n",
    "plt.plot(predicted_prices, color='green', label=\"Predictedprice\")\n",
    "\n",
    "# Set the title of the plot using the company name\n",
    "plt.title(\"share price\")\n",
    "\n",
    "# Set the x-axis label as 'time'\n",
    "plt.xlabel(\"time\")\n",
    "\n",
    "# Set the y-axis label using the company name\n",
    "#plt.ylabel(f\"{COMPANY} share price\")\n",
    "\n",
    "# Display a legend to differentiate the actual and predicted prices\n",
    "plt.legend()\n",
    "\n",
    "# Show the plot on the screen\n",
    "plt.show()"
   ]
  },
  {
   "cell_type": "code",
   "execution_count": null,
   "id": "4f236f84-a949-4a80-9102-f27758a70569",
   "metadata": {},
   "outputs": [],
   "source": [
    "# Extract the last 'prediction_days' values from the model inputs\n",
    "real_data = [model_inputs[len(model_inputs) + 1 - prediction_days:len(model_inputs + 1), 0]]\n",
    "\n",
    "# Convert the real_data list to a numpy array\n",
    "real_data = np.array(real_data)\n",
    "\n",
    "# Reshape real_data to a 3D array with the appropriate dimensions for the LSTM model\n",
    "real_data = np.reshape(real_data, (real_data.shape[0], real_data.shape[1], 1))\n",
    "\n",
    "# Generate a prediction using the LSTM model with the real_data input\n",
    "prediction = model.predict(real_data)\n",
    "\n",
    "# Invert the scaling applied to the prediction to obtain the actual value\n",
    "prediction = scaler.inverse_transform(prediction)\n",
    "\n",
    "# Print the prediction result to the console\n",
    "print(f\"Prediction: {prediction[0][0]}\")"
   ]
  }
 ],
 "metadata": {
  "kernelspec": {
   "display_name": "Python [conda env:tf-gpu]",
   "language": "python",
   "name": "conda-env-tf-gpu-py"
  },
  "language_info": {
   "codemirror_mode": {
    "name": "ipython",
    "version": 3
   },
   "file_extension": ".py",
   "mimetype": "text/x-python",
   "name": "python",
   "nbconvert_exporter": "python",
   "pygments_lexer": "ipython3",
   "version": "3.9.0"
  }
 },
 "nbformat": 4,
 "nbformat_minor": 5
}
